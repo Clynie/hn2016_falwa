{
 "cells": [
  {
   "cell_type": "code",
   "execution_count": 1,
   "metadata": {
    "collapsed": false
   },
   "outputs": [
    {
     "data": {
      "text/html": [
       "<script>\n",
       "code_show=true; \n",
       "function code_toggle() {\n",
       " if (code_show){\n",
       " $('div.input').hide();\n",
       " } else {\n",
       " $('div.input').show();\n",
       " }\n",
       " code_show = !code_show\n",
       "} \n",
       "$( document ).ready(code_toggle);\n",
       "</script>\n",
       "<form action=\"javascript:code_toggle()\"><input type=\"submit\" value=\"Click here to toggle on/off the raw code.\"></form>"
      ],
      "text/plain": [
       "<IPython.core.display.HTML object>"
      ]
     },
     "execution_count": 1,
     "metadata": {},
     "output_type": "execute_result"
    }
   ],
   "source": [
    "from IPython.display import HTML\n",
    "\n",
    "HTML('''<script>\n",
    "code_show=true; \n",
    "function code_toggle() {\n",
    " if (code_show){\n",
    " $('div.input').hide();\n",
    " } else {\n",
    " $('div.input').show();\n",
    " }\n",
    " code_show = !code_show\n",
    "} \n",
    "$( document ).ready(code_toggle);\n",
    "</script>\n",
    "<form action=\"javascript:code_toggle()\"><input type=\"submit\" value=\"Click here to toggle on/off the raw code.\"></form>''')"
   ]
  },
  {
   "cell_type": "markdown",
   "metadata": {},
   "source": [
    "## Instructions\n",
    "\n",
    "The python package \"hn2016_falwa\" contains a function \"qgpv_Eqlat_LWA\" that computes the finite-amplitude local wave activity (LWA) based on quasi-geostrophic potential vorticity (QGPV) field derived from Reanalysis data with spherical geometry. It differs from the function \"barotropic_Eqlat_LWA\" that a hemispheric domain (instead of global domain) is used to compute both equivalent-latitude relationship and LWA. This is to avoid spurious large values of LWA near the equator arising from the small meridional gradient of QGPV there.\n",
    "\n",
    "This sample code demonstrates how the function in this package can be used to reproduce plots of zonal wind, QGPV and LWA plots (Fig.8-9 in HN15) from QGPV fields.\n",
    "\n",
    "## Contact\n",
    "\n",
    "Please email Clare if you have any inquiries/suggestions: clare1068@gmail.com"
   ]
  },
  {
   "cell_type": "code",
   "execution_count": 2,
   "metadata": {
    "collapsed": false
   },
   "outputs": [
    {
     "ename": "IOError",
     "evalue": "No such file or directory",
     "output_type": "error",
     "traceback": [
      "\u001b[1;31m---------------------------------------------------------------------------\u001b[0m",
      "\u001b[1;31mIOError\u001b[0m                                   Traceback (most recent call last)",
      "\u001b[1;32m<ipython-input-2-bbd77986d50d>\u001b[0m in \u001b[0;36m<module>\u001b[1;34m()\u001b[0m\n\u001b[0;32m     12\u001b[0m \u001b[1;33m\u001b[0m\u001b[0m\n\u001b[0;32m     13\u001b[0m \u001b[1;31m# --- Load the zonal wind and QGPV at 240hPa --- #\u001b[0m\u001b[1;33m\u001b[0m\u001b[1;33m\u001b[0m\u001b[0m\n\u001b[1;32m---> 14\u001b[1;33m \u001b[0mu_QGPV_File\u001b[0m \u001b[1;33m=\u001b[0m \u001b[0mDataset\u001b[0m\u001b[1;33m(\u001b[0m\u001b[1;34m'u_QGPV_240hPa_2012Oct28to31.nc'\u001b[0m\u001b[1;33m,\u001b[0m \u001b[0mmode\u001b[0m\u001b[1;33m=\u001b[0m\u001b[1;34m'r'\u001b[0m\u001b[1;33m)\u001b[0m\u001b[1;33m\u001b[0m\u001b[0m\n\u001b[0m\u001b[0;32m     15\u001b[0m \u001b[1;33m\u001b[0m\u001b[0m\n\u001b[0;32m     16\u001b[0m \u001b[1;31m# --- Read in longitude and latitude arrays --- #\u001b[0m\u001b[1;33m\u001b[0m\u001b[1;33m\u001b[0m\u001b[0m\n",
      "\u001b[1;32mnetCDF4\\_netCDF4.pyx\u001b[0m in \u001b[0;36mnetCDF4._netCDF4.Dataset.__init__ (netCDF4\\_netCDF4.c:12615)\u001b[1;34m()\u001b[0m\n",
      "\u001b[1;31mIOError\u001b[0m: No such file or directory"
     ]
    }
   ],
   "source": [
    "%matplotlib inline\n",
    "import hn2016_falwa # Module for plotting local wave activity (LWA) plots and \n",
    "                      # the corresponding equivalent-latitude profile\n",
    "from math import *\n",
    "from netCDF4 import Dataset\n",
    "import numpy as np\n",
    "import matplotlib.pyplot as plt\n",
    "import datetime as dt\n",
    "\n",
    "# --- Parameters --- #\n",
    "a = 6.378e+6 # Earth's radius\n",
    "\n",
    "# --- Load the zonal wind and QGPV at 240hPa --- #\n",
    "u_QGPV_File = Dataset('u_QGPV_240hPa_2012Oct28to31.nc', mode='r')\n",
    "\n",
    "# --- Read in longitude and latitude arrays --- #\n",
    "xlon = u_QGPV_File.variables['longitude'][:]\n",
    "ylat = u_QGPV_File.variables['latitude'][:]\n",
    "clat = np.abs(np.cos(ylat*pi/180.)) # cosine latitude\n",
    "nlon = xlon.size\n",
    "nlat = ylat.size\n",
    "\n",
    "# --- Parameters needed to use the module HN2015_LWA --- #\n",
    "dphi = (ylat[2]-ylat[1])*pi/180. # Equal spacing between latitude grid points, in radian\n",
    "area = 2.*pi*a*a*(np.cos(ylat[:,np.newaxis]*pi/180.)*dphi)/float(nlon) * np.ones((nlat,nlon))\n",
    "area = np.abs(area) # To make sure area element is always positive (given floating point errors). \n",
    "\n",
    "# --- Datestamp ---\n",
    "Start_date = dt.datetime(2012, 10, 28, 0, 0)\n",
    "delta_t = dt.timedelta(hours=24)\n",
    "Datestamp = [Start_date + delta_t*tt for tt in range(4)]\n",
    "\n",
    "# --- Read in the absolute vorticity field from the netCDF file --- #\n",
    "u = u_QGPV_File.variables['U'][:]\n",
    "QGPV = u_QGPV_File.variables['QGPV'][:]\n",
    "\n",
    "# --- Set colorbar range for the 3 variables ---\n",
    "u_caxis = np.arange(-44,89,11)\n",
    "LWA_axis = np.linspace(0,313,11,endpoint=True)"
   ]
  },
  {
   "cell_type": "code",
   "execution_count": null,
   "metadata": {
    "collapsed": false
   },
   "outputs": [],
   "source": [
    "from mpl_toolkits.basemap import Basemap, addcyclic, shiftgrid\n",
    "\n",
    "# --- Codes for plotting ---\n",
    "for tt in range(4):\n",
    "    Qref, LWA = hn2016_falwa.qgpv_Eqlat_LWA(ylat,QGPV[tt,0,:,:],area,a*clat*dphi)\n",
    "\n",
    "    fig = plt.figure(figsize=(16,2))\n",
    "\n",
    "    ax = fig.add_subplot(131)\n",
    "    ax.set_title('QGPV at 240hPa | '+Datestamp[tt].strftime(\"%y/%m/%d %H:%M\"))\n",
    "    m = Basemap(llcrnrlon=0,llcrnrlat=20.,urcrnrlon=360,urcrnrlat=81,fix_aspect=False,projection='mill')\n",
    "    QGPV_plot, lons = addcyclic(QGPV[tt,0,:,:], xlon)\n",
    "    lons, lats = np.meshgrid(lons, ylat) # find x,y of map projection grid.\n",
    "    x, y = m(lons, lats)\n",
    "    cs = m.contourf(x,y,QGPV_plot,11,cmap='OrRd')\n",
    "    cb = m.colorbar(cs,\"right\",size=\"4%\", pad='8%')\n",
    "    cb.formatter.set_powerlimits((0, 0))\n",
    "    cb.ax.yaxis.set_offset_position('right')                         \n",
    "    cb.update_ticks()    \n",
    "    m.drawcoastlines(linewidth=1.0)\n",
    "    m.drawparallels(np.arange(-80,81,10),labels=[1,1,0,0])\n",
    "    m.drawmeridians(np.arange(0,360,60),labels=[0,0,0,1])\n",
    "\n",
    "    ax = fig.add_subplot(132)\n",
    "    ax.set_title(\"LWA at 240hPa | \"+Datestamp[tt].strftime(\"%y/%m/%d %H:%M\"))\n",
    "    m = Basemap(llcrnrlon=0,llcrnrlat=20.,urcrnrlon=360,urcrnrlat=81,fix_aspect=False,projection='mill')\n",
    "    LWA_plot, lons = addcyclic(LWA, xlon)\n",
    "    lons, lats = np.meshgrid(lons, ylat) # find x,y of map projection grid.\n",
    "    x, y = m(lons, lats)\n",
    "    cs = m.contourf(x,y,LWA_plot,LWA_axis,cmap='OrRd')\n",
    "    cb = m.colorbar(cs,\"right\",size=\"4%\", pad='8%')\n",
    "    cb.formatter.set_powerlimits((0, 0))\n",
    "    m.drawcoastlines(linewidth=1.0)\n",
    "    m.drawparallels(np.arange(-80,81,10),labels=[1,1,0,0])\n",
    "    m.drawmeridians(np.arange(0,360,60),labels=[0,0,0,1])\n",
    "\n",
    "    ax = fig.add_subplot(133)\n",
    "    ax.set_title(\"Zonal wind at 240hPa | \"+Datestamp[tt].strftime(\"%y/%m/%d %H:%M\"))\n",
    "    m = Basemap(llcrnrlon=0,llcrnrlat=20.,urcrnrlon=360,urcrnrlat=81,fix_aspect=False,projection='mill')\n",
    "    u_plot, lons = addcyclic(u[tt,0,:,:], xlon)\n",
    "    lons, lats = np.meshgrid(lons, ylat) # find x,y of map projection grid.\n",
    "    x, y = m(lons, lats)\n",
    "    cs = m.contourf(x,y,u_plot,u_caxis,cmap='rainbow')\n",
    "    cb = m.colorbar(cs,\"right\",size=\"4%\", pad='8%')\n",
    "    cb.formatter.set_powerlimits((0, 0))\n",
    "    m.drawcoastlines(linewidth=1.0)\n",
    "    m.drawparallels(np.arange(-80,81,10),labels=[1,1,0,0])\n",
    "    m.drawmeridians(np.arange(0,360,60),labels=[0,0,0,1])\n",
    "    \n",
    "    plt.tight_layout(pad=0.4, w_pad=4.0, h_pad=2.0)\n"
   ]
  },
  {
   "cell_type": "code",
   "execution_count": null,
   "metadata": {
    "collapsed": true
   },
   "outputs": [],
   "source": []
  }
 ],
 "metadata": {
  "kernelspec": {
   "display_name": "Python 2",
   "language": "python",
   "name": "python2"
  },
  "language_info": {
   "codemirror_mode": {
    "name": "ipython",
    "version": 2
   },
   "file_extension": ".py",
   "mimetype": "text/x-python",
   "name": "python",
   "nbconvert_exporter": "python",
   "pygments_lexer": "ipython2",
   "version": "2.7.11"
  }
 },
 "nbformat": 4,
 "nbformat_minor": 0
}
