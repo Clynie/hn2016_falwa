{
 "cells": [
  {
   "cell_type": "code",
   "execution_count": 1,
   "metadata": {
    "collapsed": false
   },
   "outputs": [
    {
     "data": {
      "text/html": [
       "<script>\n",
       "code_show=true; \n",
       "function code_toggle() {\n",
       " if (code_show){\n",
       " $('div.input').hide();\n",
       " } else {\n",
       " $('div.input').show();\n",
       " }\n",
       " code_show = !code_show\n",
       "} \n",
       "$( document ).ready(code_toggle);\n",
       "</script>\n",
       "<form action=\"javascript:code_toggle()\"><input type=\"submit\" value=\"Click here to toggle on/off the raw code.\"></form>"
      ],
      "text/plain": [
       "<IPython.core.display.HTML object>"
      ]
     },
     "execution_count": 1,
     "metadata": {},
     "output_type": "execute_result"
    }
   ],
   "source": [
    "from IPython.display import HTML\n",
    "\n",
    "HTML('''<script>\n",
    "code_show=true; \n",
    "function code_toggle() {\n",
    " if (code_show){\n",
    " $('div.input').hide();\n",
    " } else {\n",
    " $('div.input').show();\n",
    " }\n",
    " code_show = !code_show\n",
    "} \n",
    "$( document ).ready(code_toggle);\n",
    "</script>\n",
    "<form action=\"javascript:code_toggle()\"><input type=\"submit\" value=\"Click here to toggle on/off the raw code.\"></form>''')"
   ]
  },
  {
   "cell_type": "markdown",
   "metadata": {},
   "source": [
    "### HTML version can be viewed [here](https://htmlpreview.github.io/?https://github.com/csyhuang/hn2016_falwa/blob/master/examples/Plotly-map-demo-QGPV-LWA-20140102-Coldsnap.html)"
   ]
  },
  {
   "cell_type": "code",
   "execution_count": 2,
   "metadata": {
    "collapsed": true
   },
   "outputs": [],
   "source": [
    "import pickle\n",
    "\n",
    "def load_pickle(fname):\n",
    "    f = open(fname)\n",
    "    var = pickle.load(f)\n",
    "    f.close()\n",
    "    return var\n",
    "\n",
    "def dump_pickle(variable,fname):\n",
    "    f = open(fname, 'w')\n",
    "    pickle.dump(variable, f)\n",
    "    f.close()\n",
    "    return None\n"
   ]
  },
  {
   "cell_type": "code",
   "execution_count": null,
   "metadata": {
    "collapsed": false
   },
   "outputs": [],
   "source": [
    "import plotly\n",
    "plotly.__version__\n",
    "\n",
    "import plotly.plotly as py\n",
    "from plotly.graph_objs import *\n",
    "import numpy as np           \n",
    "from scipy.io import netcdf  \n",
    "from netCDF4 import Dataset\n",
    "from mpl_toolkits.basemap import Basemap\n",
    "%matplotlib inline\n",
    "\n",
    "# --- Load the zonal wind and QGPV at 240hPa --- #\n",
    "u_QGPV_File = Dataset('u_QGPV_240hPa_2012Oct28to31.nc', mode='r')\n",
    "\n",
    "# --- Read in longitude and latitude arrays --- #\n",
    "lon = u_QGPV_File.variables['longitude'][:]\n",
    "lat = u_QGPV_File.variables['latitude'][60:]\n",
    "nlon = lon.size\n",
    "nlat = lat.size\n",
    "air = np.zeros((nlat,nlon))\n",
    "LWA = np.zeros((nlat,nlon))\n",
    "\n",
    "air = load_pickle('QGPV_140102_1800.pckl')[60:,:]\n",
    "LWA = load_pickle('LWA_140102_1800.pckl')[60:,:]\n",
    "# air[:,:] = u_QGPV_File.variables['QGPV'][0,0,60:,:]\n",
    "# LWA[:,:] = u_QGPV_File.variables['U'][0,0,60:,:]\n",
    "\n",
    "\n",
    "# Shift 'lon' from [0,360] to [-180,180], make numpy array\n",
    "tmp_lon = np.array([lon[n]-360 if l>=180 else lon[n] \n",
    "                   for n,l in enumerate(lon)])  # => [0,180]U[-180,2.5]\n",
    "\n",
    "i_east, = np.where(tmp_lon>=0)  # indices of east lon\n",
    "i_west, = np.where(tmp_lon<0)   # indices of west lon\n",
    "lon = np.hstack((tmp_lon[i_west], tmp_lon[i_east]))  # stack the 2 halves\n",
    "\n",
    "# Correspondingly, shift the 'air' array\n",
    "tmp_air = np.array(air)\n",
    "air = np.hstack((tmp_air[:,i_west], tmp_air[:,i_east]))\n",
    "tmp_LWA = np.array(LWA)\n",
    "LWA = np.hstack((tmp_LWA[:,i_west], tmp_LWA[:,i_east]))\n",
    "\n",
    "trace1 = Contour(\n",
    "    z=air,\n",
    "    x=lon,\n",
    "    y=lat,\n",
    "    type='heatmap',\n",
    "    colorscale='Jet',\n",
    "    connectgaps = True,\n",
    "    zauto=False  # custom contour levels\n",
    "#     colorscale='Jet',\n",
    "#     zauto=True  # custom contour levels\n",
    ")\n",
    "\n",
    "trace2 = Contour(\n",
    "    z=LWA,\n",
    "    x=lon,\n",
    "    y=lat,\n",
    "    colorscale='Jet',\n",
    "    type='heatmap',\n",
    "    connectgaps = True,\n",
    "    zauto=False  # custom contour levels\n",
    "#     autocontour=False,\n",
    "#     contours=dict(\n",
    "#             start=0,\n",
    "#             end=360,\n",
    "#             size=15,)\n",
    ")\n",
    "\n",
    "# print 'finish tracer1'\n",
    "# Make shortcut to Basemap object, \n",
    "# not specifying projection type for this example\n",
    "m = Basemap();  \n",
    "\n",
    "# print 'finish Basemap()'\n",
    "# Make trace-generating function (return a Scatter object)\n",
    "\n",
    "\n",
    "def make_scatter(x,y):\n",
    "    return Scatter(\n",
    "        x=x,\n",
    "        y=y,\n",
    "        mode='lines',\n",
    "        line=Line(color=\"black\"),\n",
    "        name=' '  # no name on hover\n",
    "    )\n",
    "# print 'finish make_scatter'\n",
    "\n",
    "# Functions converting coastline/country polygons to lon/lat traces\n",
    "def polygons_to_traces(poly_paths, N_poly):\n",
    "    ''' \n",
    "    pos arg 1. (poly_paths): paths to polygons\n",
    "    pos arg 2. (N_poly): number of polygon to convert\n",
    "    '''\n",
    "    traces = []  # init. plotting list \n",
    "\n",
    "    for i_poly in range(N_poly):\n",
    "        poly_path = poly_paths[i_poly]\n",
    "        \n",
    "        # get the Basemap coordinates of each segment\n",
    "        coords_cc = np.array(\n",
    "            [(vertex[0],vertex[1]) \n",
    "             for (vertex,code) in poly_path.iter_segments(simplify=False)]\n",
    "        )\n",
    "        \n",
    "        # convert coordinates to lon/lat by 'inverting' the Basemap projection\n",
    "        lon_cc, lat_cc = m(coords_cc[:,0],coords_cc[:,1], inverse=True)\n",
    "        \n",
    "        # add plot.ly plotting options\n",
    "        traces.append(make_scatter(lon_cc,lat_cc))\n",
    "     \n",
    "    return traces\n",
    "\n",
    "# Function generating coastline lon/lat traces\n",
    "def get_coastline_traces():\n",
    "    poly_paths = m.drawcoastlines().get_paths(); # coastline polygon paths\n",
    "    N_poly = 91  # use only the 91st biggest coastlines (i.e. no rivers)\n",
    "    return polygons_to_traces(poly_paths, N_poly)\n",
    "\n",
    "# Function generating country lon/lat traces\n",
    "def get_country_traces():\n",
    "    poly_paths = m.drawcountries().get_paths(); # country polygon paths\n",
    "    N_poly = len(poly_paths)  # use all countries\n",
    "    return polygons_to_traces(poly_paths, N_poly)\n",
    "\n",
    "# Get list of of coastline and country lon/lat traces\n",
    "traces_cc = get_coastline_traces()+get_country_traces();\n",
    "\n",
    "data = Data([trace1]+traces_cc)\n",
    "data2 = Data([trace2]+traces_cc)\n",
    "\n",
    "title1 = u\"Quasi-geostrophic Potential Vorticity [1/s] at 490hPa on 2014/1/2 12:00UTC\"\n",
    "title2 = u\"Local Wave Activity (FALWA [m/s]) at 490hPa on 2014/1/2 12:00UTC\"\n",
    "\n",
    "anno_text = \"Data courtesy of \\\n",
    "<a href='http://www.esrl.noaa.gov/psd/data/composites/day/'>\\\n",
    "NOAA Earth System Research Laboratory</a>\"\n",
    "\n",
    "axis_style = dict(\n",
    "    zeroline=False,\n",
    "    showline=False,\n",
    "    showgrid=False,\n",
    "    ticks='',\n",
    "    showticklabels=False,\n",
    ")\n",
    "\n",
    "layout1 = Layout(\n",
    "    title=title1,\n",
    "    showlegend=False,\n",
    "    hovermode=\"closest\",        # highlight closest point on hover\n",
    "    xaxis=XAxis(\n",
    "        axis_style,\n",
    "        range=[lon[0],lon[-1]]  # restrict x-axis to range of lon\n",
    "    ),\n",
    "    yaxis=YAxis(\n",
    "        axis_style,\n",
    "        range=[lat[0],lat[-1]]  # restrict y-axis to range of lon\n",
    "    ),\n",
    "    annotations=Annotations([\n",
    "        Annotation(\n",
    "            text=anno_text,\n",
    "            xref='paper',\n",
    "            yref='paper',\n",
    "            x=0,\n",
    "            y=1,\n",
    "            yanchor='bottom',\n",
    "            showarrow=False\n",
    "        )\n",
    "    ]),\n",
    "    autosize=False,\n",
    "    width=1200,\n",
    "    height=600,\n",
    ")\n",
    "\n",
    "layout2 = Layout(\n",
    "    title=title2,\n",
    "    showlegend=False,\n",
    "    hovermode=\"closest\",        # highlight closest point on hover\n",
    "    xaxis=XAxis(\n",
    "        axis_style,\n",
    "        range=[lon[0],lon[-1]]  # restrict x-axis to range of lon\n",
    "    ),\n",
    "    yaxis=YAxis(\n",
    "        axis_style,\n",
    "        range=[lat[0],lat[-1]]  # restrict y-axis to range of lon\n",
    "    ),\n",
    "    annotations=Annotations([\n",
    "        Annotation(\n",
    "            text=anno_text,\n",
    "            xref='paper',\n",
    "            yref='paper',\n",
    "            x=0,\n",
    "            y=1,\n",
    "            yanchor='bottom',\n",
    "            showarrow=False\n",
    "        )\n",
    "    ]),\n",
    "    autosize=False,\n",
    "    width=1200,\n",
    "    height=600,\n",
    ")\n",
    "\n",
    "\n",
    "# from IPython.display import display, HTML\n",
    "# import urllib2\n",
    "# url = 'https://raw.githubusercontent.com/plotly/python-user-guide/master/custom.css'\n",
    "# display(HTML(urllib2.urlopen(url).read()))"
   ]
  },
  {
   "cell_type": "code",
   "execution_count": 4,
   "metadata": {
    "collapsed": false,
    "scrolled": false
   },
   "outputs": [
    {
     "name": "stdout",
     "output_type": "stream",
     "text": [
      "High five! You successfuly sent some data to your account on plotly. View your plot in your browser at https://plot.ly/~csyhuang/0 or inside your plot.ly account where it is named 'maps'\n"
     ]
    },
    {
     "data": {
      "text/html": [
       "<iframe id=\"igraph\" scrolling=\"no\" style=\"border:none;\" seamless=\"seamless\" src=\"https://plot.ly/~csyhuang/0.embed\" height=\"600px\" width=\"1200px\"></iframe>"
      ],
      "text/plain": [
       "<plotly.tools.PlotlyDisplay object>"
      ]
     },
     "execution_count": 4,
     "metadata": {},
     "output_type": "execute_result"
    }
   ],
   "source": [
    "fig = Figure(data=data, layout=layout1)\n",
    "\n",
    "py.iplot(fig, filename=\"maps\", width=600)\n"
   ]
  },
  {
   "cell_type": "code",
   "execution_count": 5,
   "metadata": {
    "collapsed": false
   },
   "outputs": [
    {
     "data": {
      "text/html": [
       "<iframe id=\"igraph\" scrolling=\"no\" style=\"border:none;\" seamless=\"seamless\" src=\"https://plot.ly/~csyhuang/2.embed\" height=\"600px\" width=\"1200px\"></iframe>"
      ],
      "text/plain": [
       "<plotly.tools.PlotlyDisplay object>"
      ]
     },
     "execution_count": 5,
     "metadata": {},
     "output_type": "execute_result"
    }
   ],
   "source": [
    "fig2 = Figure(data=data2, layout=layout2)\n",
    "\n",
    "py.iplot(fig2, filename=\"maps2\", width=600)\n"
   ]
  },
  {
   "cell_type": "code",
   "execution_count": null,
   "metadata": {
    "collapsed": true
   },
   "outputs": [],
   "source": []
  }
 ],
 "metadata": {
  "kernelspec": {
   "display_name": "Python 2",
   "language": "python",
   "name": "python2"
  },
  "language_info": {
   "codemirror_mode": {
    "name": "ipython",
    "version": 2
   },
   "file_extension": ".py",
   "mimetype": "text/x-python",
   "name": "python",
   "nbconvert_exporter": "python",
   "pygments_lexer": "ipython2",
   "version": "2.7.11"
  }
 },
 "nbformat": 4,
 "nbformat_minor": 0
}
